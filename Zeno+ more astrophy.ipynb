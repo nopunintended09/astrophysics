{
 "cells": [
  {
   "cell_type": "markdown",
   "id": "2558699b",
   "metadata": {},
   "source": [
    "<h1 style=\"text-align:center; font-family: 'Pacifico', cursive; font-size: 50px; color: rgba(0, 0, 0, 1);\">\n",
    "    Zeno's Paradox\n",
    "</h1>\n",
    "\n",
    "<p style=\"text-align:center; font-size: 20px; font-style: italic;color: rgba(147, 100, 6, 1);\">\n",
    "    Okay, this aint got anything to do with astrophysics but its a lowkey fun topic... where we're gonna deal with only Dichotomy paradox for now cuz its hilarious\n",
    "</p>\n",
    "\n",
    "---\n",
    "\n",
    "# Pov you didnt know infinite GP has a finite solution\n",
    "\n",
    "Okayyy soo basically Zeno's dichotomy paradox states that if we're willing to travel from point X to Y , according to him, we'd first travel half the distance, then half the other halves' and so on till infinite units of the distance.\n",
    "So he assumed it wasn't possible to reach such a distance which can be divided into infinite smaller chunks in finite amount of time.\n",
    "And thus he concluded, it'd take infinite amount of time and it wouldn't be possible. LIKE HELP!!??\n",
    "\n",
    "Bro, imagine walking or travelling forever.\n",
    "\n",
    "Now, we all know its hilarious. Math basically proved this man wrong. They used the infinite terms of a GP and ofcourse the answer to it was unity and a finite value. \n",
    "\n",
    "Doesn't it sound like satire at this point??!?\n",
    "\n",
    "\n"
   ]
  }
 ],
 "metadata": {
  "kernelspec": {
   "display_name": "Python 3",
   "language": "python",
   "name": "python3"
  },
  "language_info": {
   "codemirror_mode": {
    "name": "ipython",
    "version": 3
   },
   "file_extension": ".py",
   "mimetype": "text/x-python",
   "name": "python",
   "nbconvert_exporter": "python",
   "pygments_lexer": "ipython3",
   "version": "3.11.9"
  }
 },
 "nbformat": 4,
 "nbformat_minor": 5
}
