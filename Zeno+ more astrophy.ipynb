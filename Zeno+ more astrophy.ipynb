{
 "cells": [
  {
   "cell_type": "markdown",
   "id": "2558699b",
   "metadata": {},
   "source": [
    "<h1 style=\"text-align:center; font-family: 'Pacifico', cursive; font-size: 50px; color: rgba(0, 0, 0, 1);\">\n",
    "    Zeno's Paradox\n",
    "</h1>\n",
    "\n",
    "<p style=\"text-align:center; font-size: 20px; font-style: italic;color: rgba(147, 100, 6, 1);\">\n",
    "    Okay, this aint got anything to do with astrophysics but its a lowkey fun topic... where we're gonna deal with only Dichotomy paradox for now cuz its hilarious\n",
    "</p>\n",
    "\n",
    "---\n",
    "\n",
    "# Pov you didnt know infinite GP has a finite solution\n",
    "\n",
    "Okayyy soo basically Zeno's dichotomy paradox states that if we're willing to travel from point X to Y , according to him, we'd first travel half the distance, then half the other halves' and so on till infinite units of the distance.\n",
    "So he assumed it wasn't possible to reach such a distance which can be divided into infinite smaller chunks in finite amount of time.\n",
    "And thus he concluded, it'd take infinite amount of time and it wouldn't be possible. LIKE HELP!!??\n",
    "\n",
    "Bro, imagine walking or travelling forever.\n",
    "\n",
    "Now, we all know its hilarious. Math basically proved this man wrong. They used the infinite terms of a GP and ofcourse the answer to it was unity and a finite value. \n",
    "\n",
    "Doesn't it sound like satire at this point??!?\n",
    "\n",
    "\n",
    "# Now, Zeno actually has contributed to the field of physics... his Quantum Zeno Effect\n",
    "\n",
    "In quantum physics, particles or atoms do not have fixed energy levels or positions until you measure them... they live in \"in between\" state known as superposition. BUT the moment you choose to and observe them, they occupy or choose a specific state- called <i>wavefunction collapse</i>\n",
    "\n",
    "So basically, if you keep checking on something in the quantum world, it remains in the same state as it was in the last time you checked on it.\n",
    "Think of it as pressing pause on a movie again and again just as it starts to play.. the movie NEVER movies forward, thats basically <b> Quantum Zeno Effect </b> in quantum terms.\n",
    "\n",
    "Imagine an unstable quantum particle in a box, if you open the box and check it every nanosecond, it never rlly escapes the box. BUT if you wait too long, it escapes... thats exactly what QZE states.\n",
    "\n",
    "Now, this shi is definitely hypothetical in the physical world, but at quantum world? Its real.\n",
    "\n",
    "Some ACTUAL experiments which prove it are...\n",
    "\n",
    "basically this one time the scientists trapped a calcium ion inside electromagnetic field and kept shining a laser at it repeatedly... there's this fact that the ion can flip or transition between two energy levels naturally over time. But , everytime they kept checking in on it using the laser, it got stuck in the same energy state and everytime it was trying to change its state, the measurement caused a wavefunction collapse...\n",
    "\n",
    "COOl RIGHT????\n",
    "\n",
    "\n",
    "~ thats all for this chapter.... Byee for now ^^"
   ]
  }
 ],
 "metadata": {
  "kernelspec": {
   "display_name": "Python 3",
   "language": "python",
   "name": "python3"
  },
  "language_info": {
   "codemirror_mode": {
    "name": "ipython",
    "version": 3
   },
   "file_extension": ".py",
   "mimetype": "text/x-python",
   "name": "python",
   "nbconvert_exporter": "python",
   "pygments_lexer": "ipython3",
   "version": "3.11.9"
  }
 },
 "nbformat": 4,
 "nbformat_minor": 5
}
